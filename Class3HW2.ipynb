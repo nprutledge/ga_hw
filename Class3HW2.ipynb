{
 "cells": [
  {
   "cell_type": "code",
   "execution_count": 59,
   "metadata": {
    "collapsed": false
   },
   "outputs": [
    {
     "name": "stdout",
     "output_type": "stream",
     "text": [
      "18.8114285714\n",
      "18.81\n",
      "set(['Sprite', 'Coke', 'Lemonade', 'Coca Cola', 'Diet Dr. Pepper', 'Diet Coke', 'Dr. Pepper', 'Nestea', 'Mountain Dew'])\n"
     ]
    },
    {
     "data": {
      "text/plain": [
       "{'Chips': 230,\n",
       " 'Chips and Fresh Tomato Salsa': 130,\n",
       " 'Chips and Guacamole': 506,\n",
       " 'Chips and Mild Fresh Tomato Salsa': 1,\n",
       " 'Chips and Roasted Chili Corn Salsa': 23,\n",
       " 'Chips and Roasted Chili-Corn Salsa': 18,\n",
       " 'Chips and Tomatillo Green Chili Salsa': 45,\n",
       " 'Chips and Tomatillo Red Chili Salsa': 50,\n",
       " 'Chips and Tomatillo-Green Chili Salsa': 33,\n",
       " 'Chips and Tomatillo-Red Chili Salsa': 25,\n",
       " 'Side of Chips': 110}"
      ]
     },
     "execution_count": 59,
     "metadata": {},
     "output_type": "execute_result"
    }
   ],
   "source": [
    "import csv\n",
    "with open('chipotle.tsv', mode='rU') as f:\n",
    "    file_nested_list = [row for row in csv.reader(f, delimiter='\\t')]\n",
    "    #had to grab so help here...was a bit confused but I am really building a spread sheet with my code\n",
    "    head = file_nested_list[0]\n",
    "    data = file_nested_list[1:]\n",
    "    #I used something from code academy here...since the data is everything after the first line, makes the\n",
    "    #command fairly simple\n",
    "    price = [float(row[4][1:]) for row in data]\n",
    "    #Upon visual inspection, it was clear that the order's price was in row 5 (4) I just need to add as many unique\n",
    "    #IDs (order numbers)\n",
    "    total_price = sum([float(row[4][1:]) for row in data])\n",
    "    #trial and error-needed to sum all of the rows\n",
    "    average_price = total_price / 1834\n",
    "    print average_price\n",
    "    #now rounded\n",
    "    print round(average_price, 2)\n",
    "    #Used code given, found this next part tough\n",
    "    distinct_items = set([row[2] for row in data])\n",
    "    distinct_items\n",
    "    soda_orders = []\n",
    "for row in data:\n",
    "    if 'Canned' in row[2]:\n",
    "        soda_orders = [row for row in data if 'Canned Soda' in row[2] or 'Canned Soft Drink' in row[2]]\n",
    "soda_orders[0:5]\n",
    "sodas = [row[3][1:-1] for row in data if 'Canned' in row[2]]\n",
    "unique_sodas = set([row[3][1:-1] for row in data if 'Canned' in row[2]])\n",
    "unique_sodas\n",
    "print unique_sodas\n",
    "#counting up burritos below, similar to code academy\n",
    "burrito_count = 0\n",
    "for row in data:\n",
    "    if 'Burrito' in row[2]:\n",
    "        burrito_count = burrito_count + 1\n",
    "burrito_count = 0\n",
    "for row in data:\n",
    "    if 'Burrito' in row[2]:\n",
    "        burrito_count = burrito_count + 1\n",
    "burrito_count = 0\n",
    "topping_count = 0\n",
    "#Topping Count, had some help\n",
    "for row in data:\n",
    "    if 'Burrito' in row[2]:\n",
    "        burrito_count += 1\n",
    "        topping_count += (row[3].count(',') + 1)\n",
    "names = ['Nathan', 'Erica', 'John', 'Laura']\n",
    "name_count = {}\n",
    "\n",
    "name_count = {}\n",
    "\n",
    "for name in names:\n",
    "#Look for names    \n",
    "    if name not in name_count:\n",
    "        name_count[name] = 1   \n",
    "    else:\n",
    "        name_count[name] += 1\n",
    "name_count\n",
    "chips = {}\n",
    "\n",
    "\n",
    "for row in data:\n",
    "    if 'Chips' in row[2]:\n",
    "        if row[2] not in chips:\n",
    "            chips[row[2]] = int(row[1])     \n",
    "        else:\n",
    "            chips[row[2]] += int(row[1])\n",
    "from collections import defaultdict\n",
    "name_count = defaultdict(int)\n",
    "\n",
    "# We no longer have to check if the key is present\n",
    "for name in names:\n",
    "    name_count[name] += 1\n",
    "\n",
    "name_count\n",
    "dict(name_count)\n",
    "dchips = defaultdict(int)\n",
    "\n",
    "for row in data:\n",
    "    if 'Chips' in row[2]:\n",
    "        dchips[row[2]] += int(row[1])\n",
    "\n",
    "dict(dchips)\n",
    "\n",
    "        "
   ]
  }
 ],
 "metadata": {
  "kernelspec": {
   "display_name": "Python 2",
   "language": "python",
   "name": "python2"
  },
  "language_info": {
   "codemirror_mode": {
    "name": "ipython",
    "version": 2
   },
   "file_extension": ".py",
   "mimetype": "text/x-python",
   "name": "python",
   "nbconvert_exporter": "python",
   "pygments_lexer": "ipython2",
   "version": "2.7.10"
  }
 },
 "nbformat": 4,
 "nbformat_minor": 0
}
